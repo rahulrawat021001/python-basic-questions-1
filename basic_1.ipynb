{
  "nbformat": 4,
  "nbformat_minor": 0,
  "metadata": {
    "colab": {
      "provenance": []
    },
    "kernelspec": {
      "name": "python3",
      "display_name": "Python 3"
    },
    "language_info": {
      "name": "python"
    }
  },
  "cells": [
    {
      "cell_type": "markdown",
      "source": [
        "\n",
        "Python Basics Questions\n",
        "\n",
        "1. What is Python, and why is it popular?\n",
        "\n",
        "ans 1. Python is programming language which is used in web development, data science and machine learning.\n",
        "\n",
        "2. What is an interpreter in Python?\n",
        "\n",
        "ans 2. A Python interpreter is a program that executes Python code line by line.\n",
        "\n",
        "3. What are predefined keywords in Python?\n",
        "\n",
        "ans 3. Predefined keywords which cannot be used as variable in python are reserved by langauge to perform specific task and as a part of syntax. for ex:- True, None, False and etc\n",
        "\n",
        "4. Can keywords be used as variable names?\n",
        "\n",
        "ans 4. No\n",
        "\n",
        "5. What is mutability in Python?\n",
        "\n",
        "ans 5. when python is allowed to access the item and reassign the item in the input. for ex:- list and dictionary are mutable in python.\n",
        "\n",
        "6. Why are lists mutable, but tuples are immutable?\n",
        "\n",
        "ans 6. Lists are mutable because we can access the item and reassign the item in the list and we cannot access and reassign the item in tuples.\n",
        "\n",
        "7. What is the difference between “==” and “is” operators in Python?\n",
        "\n",
        "and 7. \"==\" is used to compare the two values whereas \"is\" operator is used to check if the values are refer two same object\n",
        "\n",
        "8. What are logical operators in Python?\n",
        "\n",
        "ans 8. not, and, or are logical operators in python?\n",
        "Not- this operator give opposite output of your input\n",
        "And- both statement should be satisfied\n",
        "or- one of the statement\n",
        "\n",
        "9. What is type casting in Python?\n",
        "\n",
        "ans 9. when we convert one data type to another data type is known as type casting.\n",
        "\n",
        "There are two kind of typecasting in python explicit and implicit\n",
        "Implicit- when compiler automatic change one data type into other\n",
        "Explicit- when users have to change one data type into another.\n",
        "\n",
        "10. What is the difference between implicit and explicit type casting?\n",
        "\n",
        "ans 10. In implicit type casting the compiler automatically changes one data type to another without giving extra information but in explicit data type we have to convert one data type into another.\n",
        "\n",
        "11. What is the purpose of conditional statements in Python?\n",
        "\n",
        "ans 11. There are three conditional statements\n",
        "\n",
        "first is \"If\", second is \"elif\" and third is \"else\".\n",
        "The purpose of conditional statements in Python is to control the flow of code execution based on certain conditions. This can help make code more efficient and easier to read.\n",
        "\n",
        "12. How does the elif statement work?\n",
        "\n",
        "ans 12. If the first condition is false, it moves on to the next “elif” statement to check if that condition is true.\n",
        "\n",
        "13. What is the difference between for and while loops?\n",
        "\n",
        "ans 13. The key difference between for and while loops lies in how they control iteration: for loops are used when you know the number of iterations beforehand, while while loops continue until a condition becomes false.\n",
        "\n",
        "14. Describe a scenario where a while loop is more suitable than a for loop?\n",
        "\n",
        "ans 14. In programming, for loops are best used when you know the number of iterations ahead of time, whereas a while loop is best used when you don't know the number of iterations in advance. Both methods can help you iterate through your code.\n"
      ],
      "metadata": {
        "id": "dXD2ky4gAJmQ"
      }
    },
    {
      "cell_type": "markdown",
      "source": [],
      "metadata": {
        "id": "tkMgmfaTsCQy"
      }
    },
    {
      "cell_type": "code",
      "source": [
        "# 1. Write a Python program to print \"Hello, World!\n",
        "a=\"Hello, World!\"\n",
        "print(a)\n"
      ],
      "metadata": {
        "colab": {
          "base_uri": "https://localhost:8080/"
        },
        "id": "ppizjSWNvcmX",
        "outputId": "528c3f2f-7c32-4416-e707-99fd91f6bbfe"
      },
      "execution_count": null,
      "outputs": [
        {
          "output_type": "stream",
          "name": "stdout",
          "text": [
            "Hello, World!\n"
          ]
        }
      ]
    },
    {
      "cell_type": "code",
      "source": [
        "# 2. Write a Python program that displays your name and age\n",
        "\n",
        "name =input(\"enter your name=\")\n",
        "age =input(\"enter your age=\")\n",
        "print(name)\n",
        "print(age)\n"
      ],
      "metadata": {
        "colab": {
          "base_uri": "https://localhost:8080/"
        },
        "id": "KtnLcWVAwuyP",
        "outputId": "f8399da2-5082-42a8-fcdb-6fe8433bb0e3"
      },
      "execution_count": null,
      "outputs": [
        {
          "output_type": "stream",
          "name": "stdout",
          "text": [
            "enter your name= rahul singh rawat\n",
            "enter your age= 23\n",
            " rahul singh rawat\n",
            " 23\n"
          ]
        }
      ]
    },
    {
      "cell_type": "code",
      "source": [
        "# 3. Write code to print all the pre-defined keywords in Python using the keyword library.\n",
        "\n",
        "import keyword\n",
        "print(keyword.kwlist)\n",
        "\n"
      ],
      "metadata": {
        "colab": {
          "base_uri": "https://localhost:8080/"
        },
        "id": "cjisB8V7wu6e",
        "outputId": "7ca76628-aa04-4154-d8f0-3f6ac202a27f"
      },
      "execution_count": null,
      "outputs": [
        {
          "output_type": "stream",
          "name": "stdout",
          "text": [
            "['False', 'None', 'True', 'and', 'as', 'assert', 'async', 'await', 'break', 'class', 'continue', 'def', 'del', 'elif', 'else', 'except', 'finally', 'for', 'from', 'global', 'if', 'import', 'in', 'is', 'lambda', 'nonlocal', 'not', 'or', 'pass', 'raise', 'return', 'try', 'while', 'with', 'yield']\n"
          ]
        }
      ]
    },
    {
      "cell_type": "code",
      "source": [
        "# 4. Write a program that checks if a given word is a Python keyword?\n",
        "\n",
        "a=\"True\"\n",
        "if a==\"True\":\n",
        "    print(\"true is python keyword\")\n",
        "else:\n",
        "    print(\"true is not python keword\")\n"
      ],
      "metadata": {
        "colab": {
          "base_uri": "https://localhost:8080/"
        },
        "id": "DjjdASSZwvDC",
        "outputId": "17df9b1b-6da4-4403-fe84-7127694b5d44"
      },
      "execution_count": null,
      "outputs": [
        {
          "output_type": "stream",
          "name": "stdout",
          "text": [
            "true is python keyword\n"
          ]
        }
      ]
    },
    {
      "cell_type": "code",
      "source": [
        "# 5. Create a list and tuple in Python, and demonstrate how attempting to change an element works differently for each.\n",
        "#list\n",
        "\n",
        "a=[98,63,47.5,\"rohan\", -7]\n",
        "a[0]=87\n",
        "print(a) # the output would be [87, 63, 47.5, 'rohan', -7] we change the 98 with the value of 87 through indexing.\n",
        "\n",
        "# tuple\n",
        "\n",
        "a=(98,63,47.5,\"rohan\", -7)\n",
        "print(a[4])\n",
        "\n",
        "# the output would be -7 because we only access the value or any item but cannot change the item.\n"
      ],
      "metadata": {
        "colab": {
          "base_uri": "https://localhost:8080/"
        },
        "id": "ZF1rzWCpwvKG",
        "outputId": "e408f935-9714-4cbe-8412-6a1649fb95aa"
      },
      "execution_count": null,
      "outputs": [
        {
          "output_type": "stream",
          "name": "stdout",
          "text": [
            "[87, 63, 47.5, 'rohan', -7]\n",
            "-7\n"
          ]
        }
      ]
    },
    {
      "cell_type": "code",
      "source": [
        "# 6. Write a function to demonstrate the behavior of mutable and immutable arguments.\n",
        "\n",
        "\n",
        "# 1. Immutalbe\n",
        "a=\"rahul\"\n",
        "print(a[2])\n",
        "\n",
        "# the output will be h accordig to indexing\n",
        "# in above function the we can only access the item but cannot change any word from \"rahul\".\n",
        "\n",
        "# 2. mutable\n",
        "\n",
        "b=[5, 7.8, -9, \"rahul\"]\n",
        "b[3]=\"rohan\"\n",
        "print(b)\n",
        "\n",
        "# here the output is [5, 7.8, -9, 'rohan'] in this through indexing we assign a new item and replace the item from \"rahul\" to \"rohan\".\n"
      ],
      "metadata": {
        "colab": {
          "base_uri": "https://localhost:8080/"
        },
        "id": "HOdhGSGwwvPg",
        "outputId": "299b65d6-b190-4ea6-b0aa-03c32e84a0c5"
      },
      "execution_count": null,
      "outputs": [
        {
          "output_type": "stream",
          "name": "stdout",
          "text": [
            "h\n",
            "[5, 7.8, -9, 'rohan']\n"
          ]
        }
      ]
    },
    {
      "cell_type": "code",
      "source": [
        "# 7. Write a function to demonstrate the behavior of mutable and immutable arguments.\n",
        "\n",
        "\n",
        "# 1. Immutalbe\n",
        "a=\"rahul\"\n",
        "print(a[2])\n",
        "\n",
        "# the output will be h accordig to indexing\n",
        "# in above function the we can only access the item but cannot change any word from \"rahul\".\n",
        "\n",
        "# 2. mutable\n",
        "\n",
        "b=[5, 7.8, -9, \"rahul\"]\n",
        "b[3]=\"rohan\"\n",
        "print(b)\n",
        "\n",
        "# here the output is [5, 7.8, -9, 'rohan'] in this through indexing we assign a new item and replace the item from \"rahul\" to \"rohan\".\n"
      ],
      "metadata": {
        "colab": {
          "base_uri": "https://localhost:8080/"
        },
        "id": "A4FkvA_0yrHP",
        "outputId": "e59ffd17-0d9c-4943-d4b3-19fe83bffdbd"
      },
      "execution_count": null,
      "outputs": [
        {
          "output_type": "stream",
          "name": "stdout",
          "text": [
            "h\n",
            "[5, 7.8, -9, 'rohan']\n"
          ]
        }
      ]
    },
    {
      "cell_type": "code",
      "source": [
        "# 8. Write a program to demonstrate the use of logical operators.\n",
        "\n",
        "# using and\n",
        "a=5\n",
        "b=4\n",
        "c=3\n",
        "print(a>b and b<c)\n",
        "# the output is \"False\" because in \"and\" the both condition must be true\n",
        "# if one of the condition is not satisfied the output is always False.\n",
        "\n",
        "# using or\n",
        "a=5\n",
        "b=4\n",
        "c=3\n",
        "print(a>b or b<c)\n",
        "# the output is \"True\" because in \"or\" one of the condition must be true\n",
        "# if one of the condition is satisfied the output is True.\n"
      ],
      "metadata": {
        "colab": {
          "base_uri": "https://localhost:8080/"
        },
        "id": "J0yWQpaay0Cv",
        "outputId": "63755461-7821-4003-ecea-bc071c565c25"
      },
      "execution_count": null,
      "outputs": [
        {
          "output_type": "stream",
          "name": "stdout",
          "text": [
            "False\n",
            "True\n"
          ]
        }
      ]
    },
    {
      "cell_type": "code",
      "source": [
        "# 9. Write a Python program to convert user input from string to integer, float, and boolean types\n",
        "\n",
        "# Take user input as a string\n",
        "user_input = input(\"Enter a value: \")\n",
        "\n",
        "# Convert to Integer\n",
        "try:\n",
        "    int_value = int(user_input)\n",
        "    print(f\"Converted to Integer: {int_value}\")\n",
        "except ValueError:\n",
        "    print(\"Cannot convert to Integer\")\n",
        "\n",
        "# Convert to Float\n",
        "try:\n",
        "    float_value = float(user_input)\n",
        "    print(f\"Converted to Float: {float_value}\")\n",
        "except ValueError:\n",
        "    print(\"Cannot convert to Float\")\n",
        "\n",
        "# Convert to Boolean\n",
        "if user_input.lower() in ['true', 'false', '1', '0']:\n",
        "    bool_value = user_input.lower() in ['true', '1']\n",
        "    print(f\"Converted to Boolean: {bool_value}\")\n",
        "else:\n",
        "    print(\"Cannot convert to Boolean\")\n"
      ],
      "metadata": {
        "colab": {
          "base_uri": "https://localhost:8080/"
        },
        "id": "Wtzf5FihzHVn",
        "outputId": "f6cb7d20-069d-4fb3-ce62-645b8a840b78"
      },
      "execution_count": null,
      "outputs": [
        {
          "output_type": "stream",
          "name": "stdout",
          "text": [
            "Enter a value:  5\n",
            "Converted to Integer: 5\n",
            "Converted to Float: 5.0\n",
            "Cannot convert to Boolean\n"
          ]
        }
      ]
    },
    {
      "cell_type": "code",
      "source": [
        "#  10. Write code to demonstrate type casting with list elements.\n",
        "\n",
        "#  1) explicit\n",
        "#  2) implicit\n",
        "\n",
        "# assume if i will write a=4 and b=5\n",
        "a= input(\"enter first digit=\")\n",
        "b= input(\"enter second digit\")\n",
        "print(a+b)\n",
        "\n",
        "#  in above code the output would be \"45\" instead of \"9\"\n",
        "\n",
        "# this is the example of explicit function\n",
        "# we have to typecast the code\n",
        "a= int(input(\"enter first digit=\"))\n",
        "b= int(input(\"enter second digit\"))\n",
        "print(a+b)\n",
        "\n",
        "#  now, if we run this code the output would be \"9\" because we typecast the code by adding \"int\" function\n",
        "\n",
        "# this is the example of implicit function\n",
        "a=9\n",
        "b=9.5\n",
        "print(a+b)\n",
        "#  the answer would be 18.5 because it change the 9 into float automatically without adding int.\n"
      ],
      "metadata": {
        "colab": {
          "base_uri": "https://localhost:8080/"
        },
        "id": "svMBRvW-zQ9k",
        "outputId": "2d1ad692-fd78-4f39-b5d0-ae07c3337c45"
      },
      "execution_count": null,
      "outputs": [
        {
          "output_type": "stream",
          "name": "stdout",
          "text": [
            "enter first digit=4\n",
            "enter second digit5\n",
            "45\n",
            "enter first digit=4\n",
            "enter second digit5\n",
            "9\n",
            "18.5\n"
          ]
        }
      ]
    },
    {
      "cell_type": "code",
      "source": [
        "# 11. Write a program that checks if a number is positive, negative, or zero\n",
        "\n",
        "number=int(input(\"enter the number = \"))\n",
        "if number>0:\n",
        "  print(\"the no. is positive\")\n",
        "elif number<0:\n",
        "  print(\"the no. is negative\")\n",
        "else:\n",
        "  print(\"the no. is zero\")\n"
      ],
      "metadata": {
        "colab": {
          "base_uri": "https://localhost:8080/"
        },
        "id": "dA3QrdRQzpKn",
        "outputId": "68c873c9-0956-4a59-d3c6-65920d570152"
      },
      "execution_count": null,
      "outputs": [
        {
          "output_type": "stream",
          "name": "stdout",
          "text": [
            "enter the number = -2\n",
            "the no. is negative\n"
          ]
        }
      ]
    },
    {
      "cell_type": "code",
      "source": [
        "# 12 Write a for loop to print numbers from 1 to 100\n",
        "for u in range(1, 101):\n",
        "  print(u)"
      ],
      "metadata": {
        "colab": {
          "base_uri": "https://localhost:8080/"
        },
        "id": "Rk34Zm-l0F76",
        "outputId": "a4a31879-886e-4753-ae42-4d725a00948d"
      },
      "execution_count": null,
      "outputs": [
        {
          "output_type": "stream",
          "name": "stdout",
          "text": [
            "1\n",
            "2\n",
            "3\n",
            "4\n",
            "5\n",
            "6\n",
            "7\n",
            "8\n",
            "9\n",
            "10\n",
            "11\n",
            "12\n",
            "13\n",
            "14\n",
            "15\n",
            "16\n",
            "17\n",
            "18\n",
            "19\n",
            "20\n",
            "21\n",
            "22\n",
            "23\n",
            "24\n",
            "25\n",
            "26\n",
            "27\n",
            "28\n",
            "29\n",
            "30\n",
            "31\n",
            "32\n",
            "33\n",
            "34\n",
            "35\n",
            "36\n",
            "37\n",
            "38\n",
            "39\n",
            "40\n",
            "41\n",
            "42\n",
            "43\n",
            "44\n",
            "45\n",
            "46\n",
            "47\n",
            "48\n",
            "49\n",
            "50\n",
            "51\n",
            "52\n",
            "53\n",
            "54\n",
            "55\n",
            "56\n",
            "57\n",
            "58\n",
            "59\n",
            "60\n",
            "61\n",
            "62\n",
            "63\n",
            "64\n",
            "65\n",
            "66\n",
            "67\n",
            "68\n",
            "69\n",
            "70\n",
            "71\n",
            "72\n",
            "73\n",
            "74\n",
            "75\n",
            "76\n",
            "77\n",
            "78\n",
            "79\n",
            "80\n",
            "81\n",
            "82\n",
            "83\n",
            "84\n",
            "85\n",
            "86\n",
            "87\n",
            "88\n",
            "89\n",
            "90\n",
            "91\n",
            "92\n",
            "93\n",
            "94\n",
            "95\n",
            "96\n",
            "97\n",
            "98\n",
            "99\n",
            "100\n"
          ]
        }
      ]
    },
    {
      "cell_type": "code",
      "source": [
        "# 13. Write a Python program to find the sum of all even numbers between 1 and 50.\n",
        "\n",
        "for a in range (2,50,2):\n",
        " print(a)\n"
      ],
      "metadata": {
        "colab": {
          "base_uri": "https://localhost:8080/"
        },
        "id": "_aEZHgty0PIy",
        "outputId": "41dfaa45-5ee4-409e-94e7-d76c6191376b"
      },
      "execution_count": null,
      "outputs": [
        {
          "output_type": "stream",
          "name": "stdout",
          "text": [
            "2\n",
            "4\n",
            "6\n",
            "8\n",
            "10\n",
            "12\n",
            "14\n",
            "16\n",
            "18\n",
            "20\n",
            "22\n",
            "24\n",
            "26\n",
            "28\n",
            "30\n",
            "32\n",
            "34\n",
            "36\n",
            "38\n",
            "40\n",
            "42\n",
            "44\n",
            "46\n",
            "48\n"
          ]
        }
      ]
    },
    {
      "cell_type": "code",
      "source": [
        "# 14. Write a program to reverse a string using a while loop.\n",
        "\n",
        "def reverse_string(input_string):\n",
        "    reversed_string = \"\"  # Initialize an empty string to store the reversed string\n",
        "    index = len(input_string) - 1  # Start from the last character of the string\n",
        "\n",
        "    # While loop to iterate through the string in reverse order\n",
        "    while index >= 0:\n",
        "        reversed_string += input_string[index]  # Add the character at the current index to the reversed string\n",
        "        index -= 1  # Move to the previous character\n",
        "\n",
        "    return reversed_string\n",
        "\n",
        "# Get user input\n",
        "user_input = input(\"Enter a string to reverse: \")\n",
        "\n",
        "# Call the function and display the reversed string\n",
        "print(f\"Reversed string: {reverse_string(user_input)}\")\n"
      ],
      "metadata": {
        "colab": {
          "base_uri": "https://localhost:8080/"
        },
        "id": "JVuMKmxT058m",
        "outputId": "c74d03c7-875f-4e18-b716-e538f7b0e70c"
      },
      "execution_count": null,
      "outputs": [
        {
          "output_type": "stream",
          "name": "stdout",
          "text": [
            "Enter a string to reverse:  rohan\n",
            "Reversed string: nahor \n"
          ]
        }
      ]
    },
    {
      "cell_type": "code",
      "source": [
        "# 15. Write a Python program to calculate the factorial of a number provided by the user using a while loop.\n",
        "\n",
        "def factorial(num):\n",
        "    result = 1  # Initialize result to 1, as factorial of 0 is 1 and multiplying by 1 doesn't change values\n",
        "    while num > 1:\n",
        "        result *= num  # Multiply result by the current number\n",
        "        num -= 1  # Decrease the number by 1 for the next iteration\n",
        "    return result\n",
        "\n",
        "# Get user input\n",
        "user_input = int(input(\"Enter a number to calculate its factorial: \"))\n",
        "\n",
        "# Check if the number is negative\n",
        "if user_input < 0:\n",
        "    print(\"Factorial is not defined for negative numbers.\")\n",
        "else:\n",
        "    # Call the factorial function and display the result\n",
        "    print(f\"Factorial of {user_input} is {factorial(user_input)}\")\n"
      ],
      "metadata": {
        "colab": {
          "base_uri": "https://localhost:8080/"
        },
        "id": "EtarcbKJ094c",
        "outputId": "1c1a7633-7c1c-49ce-ffd9-0ed3343639b0"
      },
      "execution_count": null,
      "outputs": [
        {
          "output_type": "stream",
          "name": "stdout",
          "text": [
            "Enter a number to calculate its factorial: 1\n",
            "Factorial of 1 is 1\n"
          ]
        }
      ]
    },
    {
      "cell_type": "code",
      "source": [],
      "metadata": {
        "id": "p_cwOicB1E2g"
      },
      "execution_count": null,
      "outputs": []
    }
  ]
}